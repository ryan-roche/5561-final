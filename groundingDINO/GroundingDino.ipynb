{
  "nbformat": 4,
  "nbformat_minor": 0,
  "metadata": {
    "colab": {
      "provenance": [],
      "collapsed_sections": [
        "OkaQ4NoDcgCT",
        "Jhxakf3qeDhC",
        "6gQFPaNuevPe",
        "ozuHqRWMLnOx",
        "EVNWCYTOsBX2",
        "bahpOteWLo1Q",
        "lbfz9BJJLuwA"
      ],
      "authorship_tag": "ABX9TyMJOmCK1Gx+WVoFeizxMc2w"
    },
    "kernelspec": {
      "name": "python3",
      "display_name": "Python 3"
    },
    "language_info": {
      "name": "python"
    },
    "widgets": {
      "application/vnd.jupyter.widget-state+json": {
        "8a7cf6c959e24c5987cbf8d2c13212b0": {
          "model_module": "@jupyter-widgets/controls",
          "model_name": "HBoxModel",
          "model_module_version": "1.5.0",
          "state": {
            "_dom_classes": [],
            "_model_module": "@jupyter-widgets/controls",
            "_model_module_version": "1.5.0",
            "_model_name": "HBoxModel",
            "_view_count": null,
            "_view_module": "@jupyter-widgets/controls",
            "_view_module_version": "1.5.0",
            "_view_name": "HBoxView",
            "box_style": "",
            "children": [
              "IPY_MODEL_ae1b6aab11c841d9ac9026d39b7c0525",
              "IPY_MODEL_8fdb77db23d24c5baff12ca913f88b72",
              "IPY_MODEL_0712ffe31a124c71b4006a0acfb12497"
            ],
            "layout": "IPY_MODEL_26bf1244fbee41cf94af0e8c4fab2b73"
          }
        },
        "ae1b6aab11c841d9ac9026d39b7c0525": {
          "model_module": "@jupyter-widgets/controls",
          "model_name": "HTMLModel",
          "model_module_version": "1.5.0",
          "state": {
            "_dom_classes": [],
            "_model_module": "@jupyter-widgets/controls",
            "_model_module_version": "1.5.0",
            "_model_name": "HTMLModel",
            "_view_count": null,
            "_view_module": "@jupyter-widgets/controls",
            "_view_module_version": "1.5.0",
            "_view_name": "HTMLView",
            "description": "",
            "description_tooltip": null,
            "layout": "IPY_MODEL_ecac236834c44aabb358ab0261441195",
            "placeholder": "​",
            "style": "IPY_MODEL_b25c8f632cd94a998c31700b5b0d3592",
            "value": "Processing Categories: 100%"
          }
        },
        "8fdb77db23d24c5baff12ca913f88b72": {
          "model_module": "@jupyter-widgets/controls",
          "model_name": "FloatProgressModel",
          "model_module_version": "1.5.0",
          "state": {
            "_dom_classes": [],
            "_model_module": "@jupyter-widgets/controls",
            "_model_module_version": "1.5.0",
            "_model_name": "FloatProgressModel",
            "_view_count": null,
            "_view_module": "@jupyter-widgets/controls",
            "_view_module_version": "1.5.0",
            "_view_name": "ProgressView",
            "bar_style": "success",
            "description": "",
            "description_tooltip": null,
            "layout": "IPY_MODEL_6b7818d16f3e43e599697df96289fe9b",
            "max": 60,
            "min": 0,
            "orientation": "horizontal",
            "style": "IPY_MODEL_8b9e39228417435ab78a33ffb660523b",
            "value": 60
          }
        },
        "0712ffe31a124c71b4006a0acfb12497": {
          "model_module": "@jupyter-widgets/controls",
          "model_name": "HTMLModel",
          "model_module_version": "1.5.0",
          "state": {
            "_dom_classes": [],
            "_model_module": "@jupyter-widgets/controls",
            "_model_module_version": "1.5.0",
            "_model_name": "HTMLModel",
            "_view_count": null,
            "_view_module": "@jupyter-widgets/controls",
            "_view_module_version": "1.5.0",
            "_view_name": "HTMLView",
            "description": "",
            "description_tooltip": null,
            "layout": "IPY_MODEL_dad161f6be6f466c97b6cb4b0ee74a79",
            "placeholder": "​",
            "style": "IPY_MODEL_4e6a5352392b488c9cce0ac27ca18f35",
            "value": " 60/60 [00:00&lt;00:00, 10576.54it/s]"
          }
        },
        "26bf1244fbee41cf94af0e8c4fab2b73": {
          "model_module": "@jupyter-widgets/base",
          "model_name": "LayoutModel",
          "model_module_version": "1.2.0",
          "state": {
            "_model_module": "@jupyter-widgets/base",
            "_model_module_version": "1.2.0",
            "_model_name": "LayoutModel",
            "_view_count": null,
            "_view_module": "@jupyter-widgets/base",
            "_view_module_version": "1.2.0",
            "_view_name": "LayoutView",
            "align_content": null,
            "align_items": null,
            "align_self": null,
            "border": null,
            "bottom": null,
            "display": null,
            "flex": null,
            "flex_flow": null,
            "grid_area": null,
            "grid_auto_columns": null,
            "grid_auto_flow": null,
            "grid_auto_rows": null,
            "grid_column": null,
            "grid_gap": null,
            "grid_row": null,
            "grid_template_areas": null,
            "grid_template_columns": null,
            "grid_template_rows": null,
            "height": null,
            "justify_content": null,
            "justify_items": null,
            "left": null,
            "margin": null,
            "max_height": null,
            "max_width": null,
            "min_height": null,
            "min_width": null,
            "object_fit": null,
            "object_position": null,
            "order": null,
            "overflow": null,
            "overflow_x": null,
            "overflow_y": null,
            "padding": null,
            "right": null,
            "top": null,
            "visibility": null,
            "width": null
          }
        },
        "ecac236834c44aabb358ab0261441195": {
          "model_module": "@jupyter-widgets/base",
          "model_name": "LayoutModel",
          "model_module_version": "1.2.0",
          "state": {
            "_model_module": "@jupyter-widgets/base",
            "_model_module_version": "1.2.0",
            "_model_name": "LayoutModel",
            "_view_count": null,
            "_view_module": "@jupyter-widgets/base",
            "_view_module_version": "1.2.0",
            "_view_name": "LayoutView",
            "align_content": null,
            "align_items": null,
            "align_self": null,
            "border": null,
            "bottom": null,
            "display": null,
            "flex": null,
            "flex_flow": null,
            "grid_area": null,
            "grid_auto_columns": null,
            "grid_auto_flow": null,
            "grid_auto_rows": null,
            "grid_column": null,
            "grid_gap": null,
            "grid_row": null,
            "grid_template_areas": null,
            "grid_template_columns": null,
            "grid_template_rows": null,
            "height": null,
            "justify_content": null,
            "justify_items": null,
            "left": null,
            "margin": null,
            "max_height": null,
            "max_width": null,
            "min_height": null,
            "min_width": null,
            "object_fit": null,
            "object_position": null,
            "order": null,
            "overflow": null,
            "overflow_x": null,
            "overflow_y": null,
            "padding": null,
            "right": null,
            "top": null,
            "visibility": null,
            "width": null
          }
        },
        "b25c8f632cd94a998c31700b5b0d3592": {
          "model_module": "@jupyter-widgets/controls",
          "model_name": "DescriptionStyleModel",
          "model_module_version": "1.5.0",
          "state": {
            "_model_module": "@jupyter-widgets/controls",
            "_model_module_version": "1.5.0",
            "_model_name": "DescriptionStyleModel",
            "_view_count": null,
            "_view_module": "@jupyter-widgets/base",
            "_view_module_version": "1.2.0",
            "_view_name": "StyleView",
            "description_width": ""
          }
        },
        "6b7818d16f3e43e599697df96289fe9b": {
          "model_module": "@jupyter-widgets/base",
          "model_name": "LayoutModel",
          "model_module_version": "1.2.0",
          "state": {
            "_model_module": "@jupyter-widgets/base",
            "_model_module_version": "1.2.0",
            "_model_name": "LayoutModel",
            "_view_count": null,
            "_view_module": "@jupyter-widgets/base",
            "_view_module_version": "1.2.0",
            "_view_name": "LayoutView",
            "align_content": null,
            "align_items": null,
            "align_self": null,
            "border": null,
            "bottom": null,
            "display": null,
            "flex": null,
            "flex_flow": null,
            "grid_area": null,
            "grid_auto_columns": null,
            "grid_auto_flow": null,
            "grid_auto_rows": null,
            "grid_column": null,
            "grid_gap": null,
            "grid_row": null,
            "grid_template_areas": null,
            "grid_template_columns": null,
            "grid_template_rows": null,
            "height": null,
            "justify_content": null,
            "justify_items": null,
            "left": null,
            "margin": null,
            "max_height": null,
            "max_width": null,
            "min_height": null,
            "min_width": null,
            "object_fit": null,
            "object_position": null,
            "order": null,
            "overflow": null,
            "overflow_x": null,
            "overflow_y": null,
            "padding": null,
            "right": null,
            "top": null,
            "visibility": null,
            "width": null
          }
        },
        "8b9e39228417435ab78a33ffb660523b": {
          "model_module": "@jupyter-widgets/controls",
          "model_name": "ProgressStyleModel",
          "model_module_version": "1.5.0",
          "state": {
            "_model_module": "@jupyter-widgets/controls",
            "_model_module_version": "1.5.0",
            "_model_name": "ProgressStyleModel",
            "_view_count": null,
            "_view_module": "@jupyter-widgets/base",
            "_view_module_version": "1.2.0",
            "_view_name": "StyleView",
            "bar_color": null,
            "description_width": ""
          }
        },
        "dad161f6be6f466c97b6cb4b0ee74a79": {
          "model_module": "@jupyter-widgets/base",
          "model_name": "LayoutModel",
          "model_module_version": "1.2.0",
          "state": {
            "_model_module": "@jupyter-widgets/base",
            "_model_module_version": "1.2.0",
            "_model_name": "LayoutModel",
            "_view_count": null,
            "_view_module": "@jupyter-widgets/base",
            "_view_module_version": "1.2.0",
            "_view_name": "LayoutView",
            "align_content": null,
            "align_items": null,
            "align_self": null,
            "border": null,
            "bottom": null,
            "display": null,
            "flex": null,
            "flex_flow": null,
            "grid_area": null,
            "grid_auto_columns": null,
            "grid_auto_flow": null,
            "grid_auto_rows": null,
            "grid_column": null,
            "grid_gap": null,
            "grid_row": null,
            "grid_template_areas": null,
            "grid_template_columns": null,
            "grid_template_rows": null,
            "height": null,
            "justify_content": null,
            "justify_items": null,
            "left": null,
            "margin": null,
            "max_height": null,
            "max_width": null,
            "min_height": null,
            "min_width": null,
            "object_fit": null,
            "object_position": null,
            "order": null,
            "overflow": null,
            "overflow_x": null,
            "overflow_y": null,
            "padding": null,
            "right": null,
            "top": null,
            "visibility": null,
            "width": null
          }
        },
        "4e6a5352392b488c9cce0ac27ca18f35": {
          "model_module": "@jupyter-widgets/controls",
          "model_name": "DescriptionStyleModel",
          "model_module_version": "1.5.0",
          "state": {
            "_model_module": "@jupyter-widgets/controls",
            "_model_module_version": "1.5.0",
            "_model_name": "DescriptionStyleModel",
            "_view_count": null,
            "_view_module": "@jupyter-widgets/base",
            "_view_module_version": "1.2.0",
            "_view_name": "StyleView",
            "description_width": ""
          }
        },
        "49f6aa116e184f108ed95733f97a3f2e": {
          "model_module": "@jupyter-widgets/controls",
          "model_name": "HBoxModel",
          "model_module_version": "1.5.0",
          "state": {
            "_dom_classes": [],
            "_model_module": "@jupyter-widgets/controls",
            "_model_module_version": "1.5.0",
            "_model_name": "HBoxModel",
            "_view_count": null,
            "_view_module": "@jupyter-widgets/controls",
            "_view_module_version": "1.5.0",
            "_view_name": "HBoxView",
            "box_style": "",
            "children": [
              "IPY_MODEL_31502ab43560406da381b6f6ee31aea0",
              "IPY_MODEL_11c321ac6dd242fda24a76aa447f5547",
              "IPY_MODEL_85dee40395ff4bd4ac642807d72330a9"
            ],
            "layout": "IPY_MODEL_b11f88fef9c8475d818a0cd850e3393f"
          }
        },
        "31502ab43560406da381b6f6ee31aea0": {
          "model_module": "@jupyter-widgets/controls",
          "model_name": "HTMLModel",
          "model_module_version": "1.5.0",
          "state": {
            "_dom_classes": [],
            "_model_module": "@jupyter-widgets/controls",
            "_model_module_version": "1.5.0",
            "_model_name": "HTMLModel",
            "_view_count": null,
            "_view_module": "@jupyter-widgets/controls",
            "_view_module_version": "1.5.0",
            "_view_name": "HTMLView",
            "description": "",
            "description_tooltip": null,
            "layout": "IPY_MODEL_719c9bce113d4ce9ad7ee2f0269a2bf7",
            "placeholder": "​",
            "style": "IPY_MODEL_2c6d2acdd8144414a8821ee41b5081ca",
            "value": "Processing Annotations: 100%"
          }
        },
        "11c321ac6dd242fda24a76aa447f5547": {
          "model_module": "@jupyter-widgets/controls",
          "model_name": "FloatProgressModel",
          "model_module_version": "1.5.0",
          "state": {
            "_dom_classes": [],
            "_model_module": "@jupyter-widgets/controls",
            "_model_module_version": "1.5.0",
            "_model_name": "FloatProgressModel",
            "_view_count": null,
            "_view_module": "@jupyter-widgets/controls",
            "_view_module_version": "1.5.0",
            "_view_name": "ProgressView",
            "bar_style": "success",
            "description": "",
            "description_tooltip": null,
            "layout": "IPY_MODEL_5eca1bad7bfc4e90a8899413b3875add",
            "max": 4784,
            "min": 0,
            "orientation": "horizontal",
            "style": "IPY_MODEL_d170abe32b554a42a8f6e5f3b3848639",
            "value": 4784
          }
        },
        "85dee40395ff4bd4ac642807d72330a9": {
          "model_module": "@jupyter-widgets/controls",
          "model_name": "HTMLModel",
          "model_module_version": "1.5.0",
          "state": {
            "_dom_classes": [],
            "_model_module": "@jupyter-widgets/controls",
            "_model_module_version": "1.5.0",
            "_model_name": "HTMLModel",
            "_view_count": null,
            "_view_module": "@jupyter-widgets/controls",
            "_view_module_version": "1.5.0",
            "_view_name": "HTMLView",
            "description": "",
            "description_tooltip": null,
            "layout": "IPY_MODEL_d92d22d76819429b94d8b8ad7a65a5ad",
            "placeholder": "​",
            "style": "IPY_MODEL_4bb11ff93ebb40cd866d4f747949685f",
            "value": " 4784/4784 [00:00&lt;00:00, 155572.23it/s]"
          }
        },
        "b11f88fef9c8475d818a0cd850e3393f": {
          "model_module": "@jupyter-widgets/base",
          "model_name": "LayoutModel",
          "model_module_version": "1.2.0",
          "state": {
            "_model_module": "@jupyter-widgets/base",
            "_model_module_version": "1.2.0",
            "_model_name": "LayoutModel",
            "_view_count": null,
            "_view_module": "@jupyter-widgets/base",
            "_view_module_version": "1.2.0",
            "_view_name": "LayoutView",
            "align_content": null,
            "align_items": null,
            "align_self": null,
            "border": null,
            "bottom": null,
            "display": null,
            "flex": null,
            "flex_flow": null,
            "grid_area": null,
            "grid_auto_columns": null,
            "grid_auto_flow": null,
            "grid_auto_rows": null,
            "grid_column": null,
            "grid_gap": null,
            "grid_row": null,
            "grid_template_areas": null,
            "grid_template_columns": null,
            "grid_template_rows": null,
            "height": null,
            "justify_content": null,
            "justify_items": null,
            "left": null,
            "margin": null,
            "max_height": null,
            "max_width": null,
            "min_height": null,
            "min_width": null,
            "object_fit": null,
            "object_position": null,
            "order": null,
            "overflow": null,
            "overflow_x": null,
            "overflow_y": null,
            "padding": null,
            "right": null,
            "top": null,
            "visibility": null,
            "width": null
          }
        },
        "719c9bce113d4ce9ad7ee2f0269a2bf7": {
          "model_module": "@jupyter-widgets/base",
          "model_name": "LayoutModel",
          "model_module_version": "1.2.0",
          "state": {
            "_model_module": "@jupyter-widgets/base",
            "_model_module_version": "1.2.0",
            "_model_name": "LayoutModel",
            "_view_count": null,
            "_view_module": "@jupyter-widgets/base",
            "_view_module_version": "1.2.0",
            "_view_name": "LayoutView",
            "align_content": null,
            "align_items": null,
            "align_self": null,
            "border": null,
            "bottom": null,
            "display": null,
            "flex": null,
            "flex_flow": null,
            "grid_area": null,
            "grid_auto_columns": null,
            "grid_auto_flow": null,
            "grid_auto_rows": null,
            "grid_column": null,
            "grid_gap": null,
            "grid_row": null,
            "grid_template_areas": null,
            "grid_template_columns": null,
            "grid_template_rows": null,
            "height": null,
            "justify_content": null,
            "justify_items": null,
            "left": null,
            "margin": null,
            "max_height": null,
            "max_width": null,
            "min_height": null,
            "min_width": null,
            "object_fit": null,
            "object_position": null,
            "order": null,
            "overflow": null,
            "overflow_x": null,
            "overflow_y": null,
            "padding": null,
            "right": null,
            "top": null,
            "visibility": null,
            "width": null
          }
        },
        "2c6d2acdd8144414a8821ee41b5081ca": {
          "model_module": "@jupyter-widgets/controls",
          "model_name": "DescriptionStyleModel",
          "model_module_version": "1.5.0",
          "state": {
            "_model_module": "@jupyter-widgets/controls",
            "_model_module_version": "1.5.0",
            "_model_name": "DescriptionStyleModel",
            "_view_count": null,
            "_view_module": "@jupyter-widgets/base",
            "_view_module_version": "1.2.0",
            "_view_name": "StyleView",
            "description_width": ""
          }
        },
        "5eca1bad7bfc4e90a8899413b3875add": {
          "model_module": "@jupyter-widgets/base",
          "model_name": "LayoutModel",
          "model_module_version": "1.2.0",
          "state": {
            "_model_module": "@jupyter-widgets/base",
            "_model_module_version": "1.2.0",
            "_model_name": "LayoutModel",
            "_view_count": null,
            "_view_module": "@jupyter-widgets/base",
            "_view_module_version": "1.2.0",
            "_view_name": "LayoutView",
            "align_content": null,
            "align_items": null,
            "align_self": null,
            "border": null,
            "bottom": null,
            "display": null,
            "flex": null,
            "flex_flow": null,
            "grid_area": null,
            "grid_auto_columns": null,
            "grid_auto_flow": null,
            "grid_auto_rows": null,
            "grid_column": null,
            "grid_gap": null,
            "grid_row": null,
            "grid_template_areas": null,
            "grid_template_columns": null,
            "grid_template_rows": null,
            "height": null,
            "justify_content": null,
            "justify_items": null,
            "left": null,
            "margin": null,
            "max_height": null,
            "max_width": null,
            "min_height": null,
            "min_width": null,
            "object_fit": null,
            "object_position": null,
            "order": null,
            "overflow": null,
            "overflow_x": null,
            "overflow_y": null,
            "padding": null,
            "right": null,
            "top": null,
            "visibility": null,
            "width": null
          }
        },
        "d170abe32b554a42a8f6e5f3b3848639": {
          "model_module": "@jupyter-widgets/controls",
          "model_name": "ProgressStyleModel",
          "model_module_version": "1.5.0",
          "state": {
            "_model_module": "@jupyter-widgets/controls",
            "_model_module_version": "1.5.0",
            "_model_name": "ProgressStyleModel",
            "_view_count": null,
            "_view_module": "@jupyter-widgets/base",
            "_view_module_version": "1.2.0",
            "_view_name": "StyleView",
            "bar_color": null,
            "description_width": ""
          }
        },
        "d92d22d76819429b94d8b8ad7a65a5ad": {
          "model_module": "@jupyter-widgets/base",
          "model_name": "LayoutModel",
          "model_module_version": "1.2.0",
          "state": {
            "_model_module": "@jupyter-widgets/base",
            "_model_module_version": "1.2.0",
            "_model_name": "LayoutModel",
            "_view_count": null,
            "_view_module": "@jupyter-widgets/base",
            "_view_module_version": "1.2.0",
            "_view_name": "LayoutView",
            "align_content": null,
            "align_items": null,
            "align_self": null,
            "border": null,
            "bottom": null,
            "display": null,
            "flex": null,
            "flex_flow": null,
            "grid_area": null,
            "grid_auto_columns": null,
            "grid_auto_flow": null,
            "grid_auto_rows": null,
            "grid_column": null,
            "grid_gap": null,
            "grid_row": null,
            "grid_template_areas": null,
            "grid_template_columns": null,
            "grid_template_rows": null,
            "height": null,
            "justify_content": null,
            "justify_items": null,
            "left": null,
            "margin": null,
            "max_height": null,
            "max_width": null,
            "min_height": null,
            "min_width": null,
            "object_fit": null,
            "object_position": null,
            "order": null,
            "overflow": null,
            "overflow_x": null,
            "overflow_y": null,
            "padding": null,
            "right": null,
            "top": null,
            "visibility": null,
            "width": null
          }
        },
        "4bb11ff93ebb40cd866d4f747949685f": {
          "model_module": "@jupyter-widgets/controls",
          "model_name": "DescriptionStyleModel",
          "model_module_version": "1.5.0",
          "state": {
            "_model_module": "@jupyter-widgets/controls",
            "_model_module_version": "1.5.0",
            "_model_name": "DescriptionStyleModel",
            "_view_count": null,
            "_view_module": "@jupyter-widgets/base",
            "_view_module_version": "1.2.0",
            "_view_name": "StyleView",
            "description_width": ""
          }
        },
        "e489c77c5c9842509a47b408d86ffa31": {
          "model_module": "@jupyter-widgets/controls",
          "model_name": "HBoxModel",
          "model_module_version": "1.5.0",
          "state": {
            "_dom_classes": [],
            "_model_module": "@jupyter-widgets/controls",
            "_model_module_version": "1.5.0",
            "_model_name": "HBoxModel",
            "_view_count": null,
            "_view_module": "@jupyter-widgets/controls",
            "_view_module_version": "1.5.0",
            "_view_name": "HBoxView",
            "box_style": "",
            "children": [
              "IPY_MODEL_0e9ad8b459874f28a435f10c3a03a719",
              "IPY_MODEL_da3cc10757124d648659c16ae640b58b",
              "IPY_MODEL_c517b795c6a341c2b4133ff93ed0bdee"
            ],
            "layout": "IPY_MODEL_eada19921b4f44f2a557238ce33d1d04"
          }
        },
        "0e9ad8b459874f28a435f10c3a03a719": {
          "model_module": "@jupyter-widgets/controls",
          "model_name": "HTMLModel",
          "model_module_version": "1.5.0",
          "state": {
            "_dom_classes": [],
            "_model_module": "@jupyter-widgets/controls",
            "_model_module_version": "1.5.0",
            "_model_name": "HTMLModel",
            "_view_count": null,
            "_view_module": "@jupyter-widgets/controls",
            "_view_module_version": "1.5.0",
            "_view_name": "HTMLView",
            "description": "",
            "description_tooltip": null,
            "layout": "IPY_MODEL_fe2cfb18924a45c98b8e9358a2e43320",
            "placeholder": "​",
            "style": "IPY_MODEL_dd15e9cd310e439caaa6ac5edb76078f",
            "value": "Evaluating Predictions: "
          }
        },
        "da3cc10757124d648659c16ae640b58b": {
          "model_module": "@jupyter-widgets/controls",
          "model_name": "FloatProgressModel",
          "model_module_version": "1.5.0",
          "state": {
            "_dom_classes": [],
            "_model_module": "@jupyter-widgets/controls",
            "_model_module_version": "1.5.0",
            "_model_name": "FloatProgressModel",
            "_view_count": null,
            "_view_module": "@jupyter-widgets/controls",
            "_view_module_version": "1.5.0",
            "_view_name": "ProgressView",
            "bar_style": "success",
            "description": "",
            "description_tooltip": null,
            "layout": "IPY_MODEL_c0da37d173254c3796dbeca3c8b4d436",
            "max": 1,
            "min": 0,
            "orientation": "horizontal",
            "style": "IPY_MODEL_1ea7d1292b49491a9e124ad99ecd905b",
            "value": 1
          }
        },
        "c517b795c6a341c2b4133ff93ed0bdee": {
          "model_module": "@jupyter-widgets/controls",
          "model_name": "HTMLModel",
          "model_module_version": "1.5.0",
          "state": {
            "_dom_classes": [],
            "_model_module": "@jupyter-widgets/controls",
            "_model_module_version": "1.5.0",
            "_model_name": "HTMLModel",
            "_view_count": null,
            "_view_module": "@jupyter-widgets/controls",
            "_view_module_version": "1.5.0",
            "_view_name": "HTMLView",
            "description": "",
            "description_tooltip": null,
            "layout": "IPY_MODEL_699610054dea4ad180509c4bd53b5156",
            "placeholder": "​",
            "style": "IPY_MODEL_cf45d4d691b94b199d7740bea0de7f48",
            "value": " 1500/? [01:55&lt;00:00, 15.26it/s]"
          }
        },
        "eada19921b4f44f2a557238ce33d1d04": {
          "model_module": "@jupyter-widgets/base",
          "model_name": "LayoutModel",
          "model_module_version": "1.2.0",
          "state": {
            "_model_module": "@jupyter-widgets/base",
            "_model_module_version": "1.2.0",
            "_model_name": "LayoutModel",
            "_view_count": null,
            "_view_module": "@jupyter-widgets/base",
            "_view_module_version": "1.2.0",
            "_view_name": "LayoutView",
            "align_content": null,
            "align_items": null,
            "align_self": null,
            "border": null,
            "bottom": null,
            "display": null,
            "flex": null,
            "flex_flow": null,
            "grid_area": null,
            "grid_auto_columns": null,
            "grid_auto_flow": null,
            "grid_auto_rows": null,
            "grid_column": null,
            "grid_gap": null,
            "grid_row": null,
            "grid_template_areas": null,
            "grid_template_columns": null,
            "grid_template_rows": null,
            "height": null,
            "justify_content": null,
            "justify_items": null,
            "left": null,
            "margin": null,
            "max_height": null,
            "max_width": null,
            "min_height": null,
            "min_width": null,
            "object_fit": null,
            "object_position": null,
            "order": null,
            "overflow": null,
            "overflow_x": null,
            "overflow_y": null,
            "padding": null,
            "right": null,
            "top": null,
            "visibility": null,
            "width": null
          }
        },
        "fe2cfb18924a45c98b8e9358a2e43320": {
          "model_module": "@jupyter-widgets/base",
          "model_name": "LayoutModel",
          "model_module_version": "1.2.0",
          "state": {
            "_model_module": "@jupyter-widgets/base",
            "_model_module_version": "1.2.0",
            "_model_name": "LayoutModel",
            "_view_count": null,
            "_view_module": "@jupyter-widgets/base",
            "_view_module_version": "1.2.0",
            "_view_name": "LayoutView",
            "align_content": null,
            "align_items": null,
            "align_self": null,
            "border": null,
            "bottom": null,
            "display": null,
            "flex": null,
            "flex_flow": null,
            "grid_area": null,
            "grid_auto_columns": null,
            "grid_auto_flow": null,
            "grid_auto_rows": null,
            "grid_column": null,
            "grid_gap": null,
            "grid_row": null,
            "grid_template_areas": null,
            "grid_template_columns": null,
            "grid_template_rows": null,
            "height": null,
            "justify_content": null,
            "justify_items": null,
            "left": null,
            "margin": null,
            "max_height": null,
            "max_width": null,
            "min_height": null,
            "min_width": null,
            "object_fit": null,
            "object_position": null,
            "order": null,
            "overflow": null,
            "overflow_x": null,
            "overflow_y": null,
            "padding": null,
            "right": null,
            "top": null,
            "visibility": null,
            "width": null
          }
        },
        "dd15e9cd310e439caaa6ac5edb76078f": {
          "model_module": "@jupyter-widgets/controls",
          "model_name": "DescriptionStyleModel",
          "model_module_version": "1.5.0",
          "state": {
            "_model_module": "@jupyter-widgets/controls",
            "_model_module_version": "1.5.0",
            "_model_name": "DescriptionStyleModel",
            "_view_count": null,
            "_view_module": "@jupyter-widgets/base",
            "_view_module_version": "1.2.0",
            "_view_name": "StyleView",
            "description_width": ""
          }
        },
        "c0da37d173254c3796dbeca3c8b4d436": {
          "model_module": "@jupyter-widgets/base",
          "model_name": "LayoutModel",
          "model_module_version": "1.2.0",
          "state": {
            "_model_module": "@jupyter-widgets/base",
            "_model_module_version": "1.2.0",
            "_model_name": "LayoutModel",
            "_view_count": null,
            "_view_module": "@jupyter-widgets/base",
            "_view_module_version": "1.2.0",
            "_view_name": "LayoutView",
            "align_content": null,
            "align_items": null,
            "align_self": null,
            "border": null,
            "bottom": null,
            "display": null,
            "flex": null,
            "flex_flow": null,
            "grid_area": null,
            "grid_auto_columns": null,
            "grid_auto_flow": null,
            "grid_auto_rows": null,
            "grid_column": null,
            "grid_gap": null,
            "grid_row": null,
            "grid_template_areas": null,
            "grid_template_columns": null,
            "grid_template_rows": null,
            "height": null,
            "justify_content": null,
            "justify_items": null,
            "left": null,
            "margin": null,
            "max_height": null,
            "max_width": null,
            "min_height": null,
            "min_width": null,
            "object_fit": null,
            "object_position": null,
            "order": null,
            "overflow": null,
            "overflow_x": null,
            "overflow_y": null,
            "padding": null,
            "right": null,
            "top": null,
            "visibility": null,
            "width": "20px"
          }
        },
        "1ea7d1292b49491a9e124ad99ecd905b": {
          "model_module": "@jupyter-widgets/controls",
          "model_name": "ProgressStyleModel",
          "model_module_version": "1.5.0",
          "state": {
            "_model_module": "@jupyter-widgets/controls",
            "_model_module_version": "1.5.0",
            "_model_name": "ProgressStyleModel",
            "_view_count": null,
            "_view_module": "@jupyter-widgets/base",
            "_view_module_version": "1.2.0",
            "_view_name": "StyleView",
            "bar_color": null,
            "description_width": ""
          }
        },
        "699610054dea4ad180509c4bd53b5156": {
          "model_module": "@jupyter-widgets/base",
          "model_name": "LayoutModel",
          "model_module_version": "1.2.0",
          "state": {
            "_model_module": "@jupyter-widgets/base",
            "_model_module_version": "1.2.0",
            "_model_name": "LayoutModel",
            "_view_count": null,
            "_view_module": "@jupyter-widgets/base",
            "_view_module_version": "1.2.0",
            "_view_name": "LayoutView",
            "align_content": null,
            "align_items": null,
            "align_self": null,
            "border": null,
            "bottom": null,
            "display": null,
            "flex": null,
            "flex_flow": null,
            "grid_area": null,
            "grid_auto_columns": null,
            "grid_auto_flow": null,
            "grid_auto_rows": null,
            "grid_column": null,
            "grid_gap": null,
            "grid_row": null,
            "grid_template_areas": null,
            "grid_template_columns": null,
            "grid_template_rows": null,
            "height": null,
            "justify_content": null,
            "justify_items": null,
            "left": null,
            "margin": null,
            "max_height": null,
            "max_width": null,
            "min_height": null,
            "min_width": null,
            "object_fit": null,
            "object_position": null,
            "order": null,
            "overflow": null,
            "overflow_x": null,
            "overflow_y": null,
            "padding": null,
            "right": null,
            "top": null,
            "visibility": null,
            "width": null
          }
        },
        "cf45d4d691b94b199d7740bea0de7f48": {
          "model_module": "@jupyter-widgets/controls",
          "model_name": "DescriptionStyleModel",
          "model_module_version": "1.5.0",
          "state": {
            "_model_module": "@jupyter-widgets/controls",
            "_model_module_version": "1.5.0",
            "_model_name": "DescriptionStyleModel",
            "_view_count": null,
            "_view_module": "@jupyter-widgets/base",
            "_view_module_version": "1.2.0",
            "_view_name": "StyleView",
            "description_width": ""
          }
        }
      }
    }
  },
  "cells": [
    {
      "cell_type": "markdown",
      "source": [
        "# Setup\n",
        "\n",
        "The cells in this section are for setup- things like installing packages and downloading/preprocessing the dataset from Kaggle"
      ],
      "metadata": {
        "id": "OkaQ4NoDcgCT"
      }
    },
    {
      "cell_type": "markdown",
      "source": [
        "### Verify CUDA is available"
      ],
      "metadata": {
        "id": "Jhxakf3qeDhC"
      }
    },
    {
      "cell_type": "code",
      "source": [
        "!nvidia-smi"
      ],
      "metadata": {
        "colab": {
          "base_uri": "https://localhost:8080/"
        },
        "id": "lBZq6U-UeFvI",
        "outputId": "fe6dbd63-ee42-4a27-efac-37d476ccf6bc"
      },
      "execution_count": null,
      "outputs": [
        {
          "output_type": "stream",
          "name": "stdout",
          "text": [
            "Tue Dec 10 00:50:26 2024       \n",
            "+-----------------------------------------------------------------------------------------+\n",
            "| NVIDIA-SMI 550.120                Driver Version: 550.120        CUDA Version: 12.4     |\n",
            "|-----------------------------------------+------------------------+----------------------+\n",
            "| GPU  Name                 Persistence-M | Bus-Id          Disp.A | Volatile Uncorr. ECC |\n",
            "| Fan  Temp   Perf          Pwr:Usage/Cap |           Memory-Usage | GPU-Util  Compute M. |\n",
            "|                                         |                        |               MIG M. |\n",
            "|=========================================+========================+======================|\n",
            "|   0  NVIDIA RTX A5500               Off |   00000000:9C:00.0 Off |                  Off |\n",
            "| 30%   34C    P8             14W /  230W |      11MiB /  24564MiB |      0%      Default |\n",
            "|                                         |                        |                  N/A |\n",
            "+-----------------------------------------+------------------------+----------------------+\n",
            "                                                                                         \n",
            "+-----------------------------------------------------------------------------------------+\n",
            "| Processes:                                                                              |\n",
            "|  GPU   GI   CI        PID   Type   Process name                              GPU Memory |\n",
            "|        ID   ID                                                               Usage      |\n",
            "|=========================================================================================|\n",
            "+-----------------------------------------------------------------------------------------+\n"
          ]
        }
      ]
    },
    {
      "cell_type": "markdown",
      "source": [
        "## Prepare GroundingDINO\n",
        "\n",
        "Install the GroundingDINO package & its dependencies using pip, then download the pre-trained weights from the official GitHub releases"
      ],
      "metadata": {
        "id": "6gQFPaNuevPe"
      }
    },
    {
      "cell_type": "code",
      "source": [
        "# @title Configure HOME path\n",
        "\n",
        "import os\n",
        "HOME = os.path.join(\"/content\", \"5561 Final Project\")\n",
        "print(HOME)"
      ],
      "metadata": {
        "colab": {
          "base_uri": "https://localhost:8080/"
        },
        "id": "Uh-elbawfkEZ",
        "outputId": "8e03485a-f31e-4cf1-a218-1ecc3ee96acf",
        "cellView": "form"
      },
      "execution_count": null,
      "outputs": [
        {
          "output_type": "stream",
          "name": "stdout",
          "text": [
            "/content/5561 Final Project\n"
          ]
        }
      ]
    },
    {
      "cell_type": "code",
      "source": [
        "# @title Install GroundingDINO's official PyTorch implementation from PyPi\n",
        "!pip install groundingdino-py"
      ],
      "metadata": {
        "id": "M-dhWLmwotst",
        "cellView": "form",
        "colab": {
          "base_uri": "https://localhost:8080/"
        },
        "outputId": "ed5a00b5-4ca3-4ea5-e91e-daad3825241c"
      },
      "execution_count": null,
      "outputs": [
        {
          "output_type": "stream",
          "name": "stdout",
          "text": [
            "Requirement already satisfied: groundingdino-py in /usr/local/lib/python3.10/dist-packages (0.4.0)\n",
            "Requirement already satisfied: torch in /usr/local/lib/python3.10/dist-packages (from groundingdino-py) (2.4.1+cu121)\n",
            "Requirement already satisfied: torchvision in /usr/local/lib/python3.10/dist-packages (from groundingdino-py) (0.19.1+cu121)\n",
            "Requirement already satisfied: transformers in /usr/local/lib/python3.10/dist-packages (from groundingdino-py) (4.44.2)\n",
            "Requirement already satisfied: addict in /usr/local/lib/python3.10/dist-packages (from groundingdino-py) (2.4.0)\n",
            "Requirement already satisfied: yapf in /usr/local/lib/python3.10/dist-packages (from groundingdino-py) (0.43.0)\n",
            "Requirement already satisfied: timm in /usr/local/lib/python3.10/dist-packages (from groundingdino-py) (1.0.12)\n",
            "Requirement already satisfied: numpy in /usr/local/lib/python3.10/dist-packages (from groundingdino-py) (1.26.4)\n",
            "Requirement already satisfied: opencv-python in /usr/local/lib/python3.10/dist-packages (from groundingdino-py) (4.10.0.84)\n",
            "Requirement already satisfied: supervision==0.6.0 in /usr/local/lib/python3.10/dist-packages (from groundingdino-py) (0.6.0)\n",
            "Requirement already satisfied: pycocotools in /usr/local/lib/python3.10/dist-packages (from groundingdino-py) (2.0.8)\n",
            "Requirement already satisfied: matplotlib in /usr/local/lib/python3.10/dist-packages (from supervision==0.6.0->groundingdino-py) (3.7.1)\n",
            "Requirement already satisfied: pyyaml in /usr/local/lib/python3.10/dist-packages (from timm->groundingdino-py) (6.0.2)\n",
            "Requirement already satisfied: huggingface_hub in /usr/local/lib/python3.10/dist-packages (from timm->groundingdino-py) (0.24.7)\n",
            "Requirement already satisfied: safetensors in /usr/local/lib/python3.10/dist-packages (from timm->groundingdino-py) (0.4.5)\n",
            "Requirement already satisfied: filelock in /usr/local/lib/python3.10/dist-packages (from torch->groundingdino-py) (3.16.1)\n",
            "Requirement already satisfied: typing-extensions>=4.8.0 in /usr/local/lib/python3.10/dist-packages (from torch->groundingdino-py) (4.12.2)\n",
            "Requirement already satisfied: sympy in /usr/local/lib/python3.10/dist-packages (from torch->groundingdino-py) (1.13.3)\n",
            "Requirement already satisfied: networkx in /usr/local/lib/python3.10/dist-packages (from torch->groundingdino-py) (3.3)\n",
            "Requirement already satisfied: jinja2 in /usr/local/lib/python3.10/dist-packages (from torch->groundingdino-py) (3.1.4)\n",
            "Requirement already satisfied: fsspec in /usr/local/lib/python3.10/dist-packages (from torch->groundingdino-py) (2024.6.1)\n",
            "Requirement already satisfied: pillow!=8.3.*,>=5.3.0 in /usr/local/lib/python3.10/dist-packages (from torchvision->groundingdino-py) (10.4.0)\n",
            "Requirement already satisfied: packaging>=20.0 in /usr/local/lib/python3.10/dist-packages (from transformers->groundingdino-py) (24.1)\n",
            "Requirement already satisfied: regex!=2019.12.17 in /usr/local/lib/python3.10/dist-packages (from transformers->groundingdino-py) (2024.9.11)\n",
            "Requirement already satisfied: requests in /usr/local/lib/python3.10/dist-packages (from transformers->groundingdino-py) (2.32.3)\n",
            "Requirement already satisfied: tokenizers<0.20,>=0.19 in /usr/local/lib/python3.10/dist-packages (from transformers->groundingdino-py) (0.19.1)\n",
            "Requirement already satisfied: tqdm>=4.27 in /usr/local/lib/python3.10/dist-packages (from transformers->groundingdino-py) (4.66.5)\n",
            "Requirement already satisfied: platformdirs>=3.5.1 in /usr/local/lib/python3.10/dist-packages (from yapf->groundingdino-py) (4.3.6)\n",
            "Requirement already satisfied: tomli>=2.0.1 in /usr/local/lib/python3.10/dist-packages (from yapf->groundingdino-py) (2.0.1)\n",
            "Requirement already satisfied: contourpy>=1.0.1 in /usr/local/lib/python3.10/dist-packages (from matplotlib->supervision==0.6.0->groundingdino-py) (1.3.0)\n",
            "Requirement already satisfied: cycler>=0.10 in /usr/local/lib/python3.10/dist-packages (from matplotlib->supervision==0.6.0->groundingdino-py) (0.12.1)\n",
            "Requirement already satisfied: fonttools>=4.22.0 in /usr/local/lib/python3.10/dist-packages (from matplotlib->supervision==0.6.0->groundingdino-py) (4.53.1)\n",
            "Requirement already satisfied: kiwisolver>=1.0.1 in /usr/local/lib/python3.10/dist-packages (from matplotlib->supervision==0.6.0->groundingdino-py) (1.4.7)\n",
            "Requirement already satisfied: pyparsing>=2.3.1 in /usr/local/lib/python3.10/dist-packages (from matplotlib->supervision==0.6.0->groundingdino-py) (3.1.4)\n",
            "Requirement already satisfied: python-dateutil>=2.7 in /usr/local/lib/python3.10/dist-packages (from matplotlib->supervision==0.6.0->groundingdino-py) (2.8.2)\n",
            "Requirement already satisfied: MarkupSafe>=2.0 in /usr/local/lib/python3.10/dist-packages (from jinja2->torch->groundingdino-py) (2.1.5)\n",
            "Requirement already satisfied: charset-normalizer<4,>=2 in /usr/local/lib/python3.10/dist-packages (from requests->transformers->groundingdino-py) (3.3.2)\n",
            "Requirement already satisfied: idna<4,>=2.5 in /usr/local/lib/python3.10/dist-packages (from requests->transformers->groundingdino-py) (3.10)\n",
            "Requirement already satisfied: urllib3<3,>=1.21.1 in /usr/local/lib/python3.10/dist-packages (from requests->transformers->groundingdino-py) (2.2.3)\n",
            "Requirement already satisfied: certifi>=2017.4.17 in /usr/local/lib/python3.10/dist-packages (from requests->transformers->groundingdino-py) (2024.8.30)\n",
            "Requirement already satisfied: mpmath<1.4,>=1.1.0 in /usr/local/lib/python3.10/dist-packages (from sympy->torch->groundingdino-py) (1.3.0)\n",
            "Requirement already satisfied: six>=1.5 in /usr/local/lib/python3.10/dist-packages (from python-dateutil>=2.7->matplotlib->supervision==0.6.0->groundingdino-py) (1.16.0)\n"
          ]
        }
      ]
    },
    {
      "cell_type": "code",
      "source": [
        "# @title Download pre-trained weights (no training code is available for GroundingDINO)\n",
        "import os\n",
        "\n",
        "weights_path = os.path.join(HOME, \"weights\")\n",
        "\n",
        "if not os.path.isdir(weights_path):\n",
        "  !mkdir \"{weights_path}\"\n",
        "\n",
        "%cd \"{weights_path}\"\n",
        "!wget -q --show-progress https://github.com/IDEA-Research/GroundingDINO/releases/download/v0.1.0-alpha/groundingdino_swint_ogc.pth"
      ],
      "metadata": {
        "colab": {
          "base_uri": "https://localhost:8080/"
        },
        "id": "CFHKlSilixKF",
        "outputId": "6cae9f79-9ef3-403d-d33f-057cd28bb386",
        "cellView": "form"
      },
      "execution_count": null,
      "outputs": [
        {
          "output_type": "stream",
          "name": "stdout",
          "text": [
            "/content/5561 Final Project/weights\n",
            "groundingdino_swint 100%[===================>] 661.85M   110MB/s    in 6.1s    \n"
          ]
        }
      ]
    },
    {
      "cell_type": "markdown",
      "source": [
        "# Full Dataset"
      ],
      "metadata": {
        "id": "qMpz-_SELcoC"
      }
    },
    {
      "cell_type": "markdown",
      "source": [
        "## Prepare Data"
      ],
      "metadata": {
        "id": "ozuHqRWMLnOx"
      }
    },
    {
      "cell_type": "code",
      "source": [
        "# @title Activate autoreload\n",
        "%load_ext autoreload\n",
        "%autoreload 2"
      ],
      "metadata": {
        "id": "-whwQGj0MTIX",
        "cellView": "form"
      },
      "execution_count": null,
      "outputs": []
    },
    {
      "cell_type": "code",
      "source": [
        "# @title Add project directory to PATH so we can import from it\n",
        "import os\n",
        "import sys\n",
        "\n",
        "\n",
        "if HOME:\n",
        "  sys.path.append(HOME)\n",
        "else:\n",
        "  print(\"Please run the Setup section of cells before proceeding\")"
      ],
      "metadata": {
        "cellView": "form",
        "id": "SwJegzY7MYF_"
      },
      "execution_count": null,
      "outputs": []
    },
    {
      "cell_type": "code",
      "source": [
        "# @title Import symbols from dataloader.py\n",
        "from dataloader import TACODownloader, TACODataset"
      ],
      "metadata": {
        "id": "DjIoL9aCNKGR",
        "cellView": "form",
        "colab": {
          "base_uri": "https://localhost:8080/"
        },
        "outputId": "70747c93-c6d9-4f56-969b-26853384b98a"
      },
      "execution_count": null,
      "outputs": [
        {
          "output_type": "stream",
          "name": "stderr",
          "text": [
            "/usr/local/lib/python3.10/dist-packages/timm/models/layers/__init__.py:48: FutureWarning: Importing from timm.models.layers is deprecated, please import via timm.layers\n",
            "  warnings.warn(f\"Importing from {__name__} is deprecated, please import via timm.layers\", FutureWarning)\n"
          ]
        }
      ]
    },
    {
      "cell_type": "markdown",
      "source": [
        "### Download Images"
      ],
      "metadata": {
        "id": "UJtVHlaTL6VH"
      }
    },
    {
      "cell_type": "code",
      "source": [
        "# @title Verify Downloader imported successfully\n",
        "TACODownloader.test_import()"
      ],
      "metadata": {
        "colab": {
          "base_uri": "https://localhost:8080/"
        },
        "id": "DMzbbXbpNTOg",
        "outputId": "cd4407de-5da0-44a4-eb8f-d54c3cd6911d",
        "cellView": "form"
      },
      "execution_count": null,
      "outputs": [
        {
          "output_type": "stream",
          "name": "stdout",
          "text": [
            "DataLoader imported successfully!\n"
          ]
        }
      ]
    },
    {
      "cell_type": "code",
      "source": [
        "# @title Initialize Downloader\n",
        "DATA_PATH = os.path.join(HOME, \"data\")\n",
        "\n",
        "if not os.path.isdir(DATA_PATH):\n",
        "  !mkdir \"{DATA_PATH}\"\n",
        "\n",
        "TACO_PATH = os.path.join(DATA_PATH, \"taco\")\n",
        "TACO_DATA_PATH = os.path.join(DATA_PATH, \"taco-full\")\n",
        "\n",
        "%mkdir \"{TACO_DATA_PATH}\"\n",
        "\n",
        "tl = TACODownloader(\n",
        "    repo_path=TACO_PATH,\n",
        "    download_dir=TACO_DATA_PATH,\n",
        "    use_full_resolution=True\n",
        ")\n",
        "\n",
        "if tl.check_params():\n",
        "  print(\"Path checks successful! :)\")\n",
        "  print(TACO_PATH)\n",
        "  print(TACO_DATA_PATH)\n",
        "else:\n",
        "  print(\"Path checks failed! :(\")"
      ],
      "metadata": {
        "colab": {
          "base_uri": "https://localhost:8080/"
        },
        "cellView": "form",
        "id": "haD3NdyEOo1M",
        "outputId": "bbd47a23-682b-41ab-be60-0eb8f4c7e2a4"
      },
      "execution_count": null,
      "outputs": [
        {
          "output_type": "stream",
          "name": "stdout",
          "text": [
            "mkdir: cannot create directory ‘/content/5561 Final Project/data/taco-full’: File exists\n",
            "Path checks successful! :)\n",
            "/content/5561 Final Project/data/taco\n",
            "/content/5561 Final Project/data/taco-full\n"
          ]
        }
      ]
    },
    {
      "cell_type": "code",
      "source": [
        "# @title Download images\n",
        "if os.listdir(TACO_DATA_PATH) == []:\n",
        "  tl.download_images()\n",
        "else:\n",
        "  print(\"Images already downloaded\")"
      ],
      "metadata": {
        "colab": {
          "base_uri": "https://localhost:8080/"
        },
        "id": "uyhjfrP4UnAs",
        "outputId": "5e3879dc-ce1c-405f-d962-216dc40fb4d7",
        "cellView": "form"
      },
      "execution_count": null,
      "outputs": [
        {
          "output_type": "stream",
          "name": "stdout",
          "text": [
            "Images already downloaded\n"
          ]
        }
      ]
    },
    {
      "cell_type": "markdown",
      "source": [
        "### Load dataset"
      ],
      "metadata": {
        "id": "EVNWCYTOsBX2"
      }
    },
    {
      "cell_type": "code",
      "source": [
        "dataset = TACODataset(\n",
        "    json_path=os.path.join(TACO_PATH, \"data\", \"annotations.json\"),\n",
        "    imgs_path=TACO_DATA_PATH\n",
        ")"
      ],
      "metadata": {
        "colab": {
          "base_uri": "https://localhost:8080/",
          "referenced_widgets": [
            "8a7cf6c959e24c5987cbf8d2c13212b0",
            "ae1b6aab11c841d9ac9026d39b7c0525",
            "8fdb77db23d24c5baff12ca913f88b72",
            "0712ffe31a124c71b4006a0acfb12497",
            "26bf1244fbee41cf94af0e8c4fab2b73",
            "ecac236834c44aabb358ab0261441195",
            "b25c8f632cd94a998c31700b5b0d3592",
            "6b7818d16f3e43e599697df96289fe9b",
            "8b9e39228417435ab78a33ffb660523b",
            "dad161f6be6f466c97b6cb4b0ee74a79",
            "4e6a5352392b488c9cce0ac27ca18f35",
            "49f6aa116e184f108ed95733f97a3f2e",
            "31502ab43560406da381b6f6ee31aea0",
            "11c321ac6dd242fda24a76aa447f5547",
            "85dee40395ff4bd4ac642807d72330a9",
            "b11f88fef9c8475d818a0cd850e3393f",
            "719c9bce113d4ce9ad7ee2f0269a2bf7",
            "2c6d2acdd8144414a8821ee41b5081ca",
            "5eca1bad7bfc4e90a8899413b3875add",
            "d170abe32b554a42a8f6e5f3b3848639",
            "d92d22d76819429b94d8b8ad7a65a5ad",
            "4bb11ff93ebb40cd866d4f747949685f"
          ],
          "height": 157
        },
        "id": "umGchPzgaDqG",
        "outputId": "a3f10b69-0097-4542-8574-3adbe38e3ff5"
      },
      "execution_count": null,
      "outputs": [
        {
          "output_type": "display_data",
          "data": {
            "text/plain": [
              "Processing Categories:   0%|          | 0/60 [00:00<?, ?it/s]"
            ],
            "application/vnd.jupyter.widget-view+json": {
              "version_major": 2,
              "version_minor": 0,
              "model_id": "8a7cf6c959e24c5987cbf8d2c13212b0"
            }
          },
          "metadata": {}
        },
        {
          "output_type": "display_data",
          "data": {
            "text/plain": [
              "Processing Annotations:   0%|          | 0/4784 [00:00<?, ?it/s]"
            ],
            "application/vnd.jupyter.widget-view+json": {
              "version_major": 2,
              "version_minor": 0,
              "model_id": "49f6aa116e184f108ed95733f97a3f2e"
            }
          },
          "metadata": {}
        }
      ]
    },
    {
      "cell_type": "markdown",
      "source": [
        "## Prepare Predictor"
      ],
      "metadata": {
        "id": "bahpOteWLo1Q"
      }
    },
    {
      "cell_type": "code",
      "source": [
        "# @title Ensure that the weights and model config are present\n",
        "import os\n",
        "\n",
        "WEIGHTS_NAME = \"groundingdino_swint_ogc.pth\"\n",
        "WEIGHTS_PATH = os.path.join(HOME, \"weights\", WEIGHTS_NAME)\n",
        "print(WEIGHTS_PATH, \"; exist:\", os.path.isfile(WEIGHTS_PATH))\n",
        "\n",
        "CONFIG_PATH = os.path.join(HOME, \"config\", \"GroundingDINO_SwinT_OGC.py\")\n",
        "if os.path.isfile(CONFIG_PATH):\n",
        "  print(CONFIG_PATH, \"; exist:\", os.path.isfile(CONFIG_PATH))\n",
        "else:\n",
        "  print(CONFIG_PATH, \"; does not exist. Downloading from GitHub\")\n",
        "  !wget -q --show-progress https://github.com/IDEA-Research/GroundingDINO/blob/856dde20aee659246248e20734ef9ba5214f5e44/groundingdino/config/GroundingDINO_SwinT_OGC.py?raw=true -O \"{CONFIG_PATH}\"\n",
        "\n",
        "print(\"--------------------\")\n",
        "\n",
        "print(\"✅ Good to go\" if os.path.isfile(WEIGHTS_PATH) and os.path.isfile(CONFIG_PATH) else \"❌ Missing files\")"
      ],
      "metadata": {
        "colab": {
          "base_uri": "https://localhost:8080/"
        },
        "cellView": "form",
        "id": "mnS0DWjkzba0",
        "outputId": "4e13e4eb-34a4-4f72-eb2f-cbfa5d9c6b35"
      },
      "execution_count": null,
      "outputs": [
        {
          "output_type": "stream",
          "name": "stdout",
          "text": [
            "/content/5561 Final Project/weights/groundingdino_swint_ogc.pth ; exist: True\n",
            "/content/5561 Final Project/config/GroundingDINO_SwinT_OGC.py ; exist: True\n",
            "--------------------\n",
            "✅ Good to go\n"
          ]
        }
      ]
    },
    {
      "cell_type": "code",
      "source": [
        "# @title Import GroundingDINOPredictor\n",
        "from predictor import Predictor\n",
        "from groundingdino.util.inference import load_image"
      ],
      "metadata": {
        "id": "QaYjPlac0Mpp",
        "cellView": "form"
      },
      "execution_count": null,
      "outputs": []
    },
    {
      "cell_type": "markdown",
      "source": [
        "## Perform Inference"
      ],
      "metadata": {
        "id": "Xj2bGHtfkRw5"
      }
    },
    {
      "cell_type": "code",
      "source": [
        "# @title Create a DataLoader for the TACODataset\n",
        "from torch.utils.data import DataLoader\n",
        "\n",
        "dl = DataLoader(dataset, batch_size=1, shuffle=False)"
      ],
      "metadata": {
        "cellView": "form",
        "id": "5gT6lSZpFy8J"
      },
      "execution_count": null,
      "outputs": []
    },
    {
      "cell_type": "code",
      "source": [
        "# @title Prepare prompts\n",
        "very_generic_prompt = \"objects\"\n",
        "\n",
        "generic_prompt = \"pieces of garbage. pieces of trash. recyclable objects.\"\n",
        "\n",
        "supercategories_prompt = \".\".join(dataset.supercategories)\n",
        "print(f\"{len(dataset.supercategories)} supercategories: {supercategories_prompt}\")\n",
        "\n",
        "categories_prompt = \".\".join(dataset.categories)\n",
        "print(f\"{len(dataset.categories)} categories: {categories_prompt}\")"
      ],
      "metadata": {
        "colab": {
          "base_uri": "https://localhost:8080/"
        },
        "cellView": "form",
        "id": "oF9kboOeGEtM",
        "outputId": "d2fea7b6-55a1-4550-cd05-b454e7d7c409"
      },
      "execution_count": null,
      "outputs": [
        {
          "output_type": "stream",
          "name": "stdout",
          "text": [
            "28 supercategories: Aluminium foil.Battery.Blister pack.Bottle.Bottle cap.Broken glass.Can.Carton.Cup.Food waste.Glass jar.Lid.Other plastic.Paper.Paper bag.Plastic bag & wrapper.Plastic container.Plastic glooves.Plastic utensils.Pop tab.Rope & strings.Scrap metal.Shoe.Squeezable tube.Straw.Styrofoam piece.Unlabeled litter.Cigarette\n",
            "60 categories: Aluminium foil.Battery.Aluminium blister pack.Carded blister pack.Other plastic bottle.Clear plastic bottle.Glass bottle.Plastic bottle cap.Metal bottle cap.Broken glass.Food Can.Aerosol.Drink can.Toilet tube.Other carton.Egg carton.Drink carton.Corrugated carton.Meal carton.Pizza box.Paper cup.Disposable plastic cup.Foam cup.Glass cup.Other plastic cup.Food waste.Glass jar.Plastic lid.Metal lid.Other plastic.Magazine paper.Tissues.Wrapping paper.Normal paper.Paper bag.Plastified paper bag.Plastic film.Six pack rings.Garbage bag.Other plastic wrapper.Single-use carrier bag.Polypropylene bag.Crisp packet.Spread tub.Tupperware.Disposable food container.Foam food container.Other plastic container.Plastic glooves.Plastic utensils.Pop tab.Rope & strings.Scrap metal.Shoe.Squeezable tube.Plastic straw.Paper straw.Styrofoam piece.Unlabeled litter.Cigarette\n"
          ]
        }
      ]
    },
    {
      "cell_type": "code",
      "source": [
        "# @title Create directory to save inference results\n",
        "import os\n",
        "import locale\n",
        "\n",
        "RESULTS_PATH = os.path.join(HOME, \"results\")\n",
        "print(RESULTS_PATH)\n",
        "\n",
        "if not os.path.isdir(RESULTS_PATH):\n",
        "  !mkdir \"{RESULTS_PATH}\"\n",
        "\n",
        "\n",
        "for i in range(4):\n",
        "  for j in range(4):\n",
        "    results_path = os.path.join(RESULTS_PATH, f\"{i}{j}\")\n",
        "\n",
        "    if not os.path.isdir(results_path):\n",
        "      !mkdir \"{results_path}\""
      ],
      "metadata": {
        "colab": {
          "base_uri": "https://localhost:8080/"
        },
        "id": "Sk3gUFHjMsmm",
        "outputId": "e6fd13a9-e579-4f20-da20-d986c39e3aca",
        "cellView": "form"
      },
      "execution_count": null,
      "outputs": [
        {
          "output_type": "stream",
          "name": "stdout",
          "text": [
            "/content/5561 Final Project/results\n"
          ]
        }
      ]
    },
    {
      "cell_type": "code",
      "source": [
        "# @title Run inference on all images with each prompt\n",
        "from predictor import batch_predict\n",
        "\n",
        "\n",
        "prompts = [\n",
        "    very_generic_prompt,\n",
        "    generic_prompt,\n",
        "    supercategories_prompt,\n",
        "    categories_prompt\n",
        "]\n",
        "\n",
        "prompt_names = [\n",
        "    \"very_generic\",\n",
        "    \"generic\",\n",
        "    \"supercategories\",\n",
        "    \"categories\"\n",
        "]\n",
        "\n",
        "thresholds = [0.25, 0.35, 0.5, 0.75]\n",
        "\n",
        "\n",
        "for i in range(len(thresholds)):\n",
        "\n",
        "  for j in range(len(thresholds)):\n",
        "    results_path = os.path.join(RESULTS_PATH, f\"{i}{j}\")\n",
        "\n",
        "    print(f\"box_threshold={thresholds[i]}, text_threshold={thresholds[j]}, [{i}{j}]\")\n",
        "\n",
        "    if os.listdir(results_path) != []:\n",
        "      print(f\"Results already exist in {results_path}\")\n",
        "      continue\n",
        "\n",
        "    predictor = Predictor(\n",
        "      config_path=CONFIG_PATH,\n",
        "      weights_path=WEIGHTS_PATH,\n",
        "      box_threshold=thresholds[i],\n",
        "      text_threshold=thresholds[j]\n",
        "    )\n",
        "\n",
        "    batch_predict(\n",
        "      predictor=predictor,\n",
        "      dataloader=dl,\n",
        "      prompts=prompts,\n",
        "      prompt_names=prompt_names,\n",
        "      results_dir=results_path\n",
        "    )\n"
      ],
      "metadata": {
        "colab": {
          "base_uri": "https://localhost:8080/"
        },
        "id": "_V0as50dRzsq",
        "outputId": "9de267ca-0d96-4aa8-b099-f9daedf337ab",
        "cellView": "form"
      },
      "execution_count": null,
      "outputs": [
        {
          "output_type": "stream",
          "name": "stdout",
          "text": [
            "box_threshold=0.25, text_threshold=0.25, [00]\n",
            "Results already exist in /content/5561 Final Project/results/00\n",
            "box_threshold=0.25, text_threshold=0.35, [01]\n",
            "final text_encoder_type: bert-base-uncased\n"
          ]
        },
        {
          "output_type": "stream",
          "name": "stderr",
          "text": [
            "/usr/local/lib/python3.10/dist-packages/transformers/tokenization_utils_base.py:1601: FutureWarning: `clean_up_tokenization_spaces` was not set. It will be set to `True` by default. This behavior will be depracted in transformers v4.45, and will be then set to `False` by default. For more details check this issue: https://github.com/huggingface/transformers/issues/31884\n",
            "  warnings.warn(\n",
            "/usr/local/lib/python3.10/dist-packages/groundingdino/util/inference.py:32: FutureWarning: You are using `torch.load` with `weights_only=False` (the current default value), which uses the default pickle module implicitly. It is possible to construct malicious pickle data which will execute arbitrary code during unpickling (See https://github.com/pytorch/pytorch/blob/main/SECURITY.md#untrusted-models for more details). In a future release, the default value for `weights_only` will be flipped to `True`. This limits the functions that could be executed during unpickling. Arbitrary objects will no longer be allowed to be loaded via this mode unless they are explicitly allowlisted by the user via `torch.serialization.add_safe_globals`. We recommend you start setting `weights_only=True` for any use case where you don't have full control of the loaded file. Please open an issue on GitHub for any issues related to this experimental feature.\n",
            "  checkpoint = torch.load(model_checkpoint_path, map_location=\"cpu\")\n",
            "Running Inference for very_generic: 100%|██████████| 1500/1500 [05:38<00:00,  4.43it/s]\n",
            "Running Inference for generic: 100%|██████████| 1500/1500 [05:39<00:00,  4.41it/s]\n",
            "Running Inference for supercategories: 100%|██████████| 1500/1500 [06:17<00:00,  3.97it/s]\n",
            "Running Inference for categories: 100%|██████████| 1500/1500 [06:51<00:00,  3.65it/s]\n"
          ]
        },
        {
          "output_type": "stream",
          "name": "stdout",
          "text": [
            "box_threshold=0.25, text_threshold=0.5, [02]\n",
            "final text_encoder_type: bert-base-uncased\n"
          ]
        },
        {
          "output_type": "stream",
          "name": "stderr",
          "text": [
            "Running Inference for very_generic: 100%|██████████| 1500/1500 [05:39<00:00,  4.42it/s]\n",
            "Running Inference for generic: 100%|██████████| 1500/1500 [05:41<00:00,  4.39it/s]\n",
            "Running Inference for supercategories: 100%|██████████| 1500/1500 [06:20<00:00,  3.95it/s]\n",
            "Running Inference for categories: 100%|██████████| 1500/1500 [06:54<00:00,  3.62it/s]\n"
          ]
        },
        {
          "output_type": "stream",
          "name": "stdout",
          "text": [
            "box_threshold=0.25, text_threshold=0.75, [03]\n",
            "final text_encoder_type: bert-base-uncased\n"
          ]
        },
        {
          "output_type": "stream",
          "name": "stderr",
          "text": [
            "Running Inference for very_generic: 100%|██████████| 1500/1500 [05:38<00:00,  4.43it/s]\n",
            "Running Inference for generic: 100%|██████████| 1500/1500 [05:40<00:00,  4.41it/s]\n",
            "Running Inference for supercategories: 100%|██████████| 1500/1500 [06:18<00:00,  3.97it/s]\n",
            "Running Inference for categories: 100%|██████████| 1500/1500 [06:51<00:00,  3.64it/s]\n"
          ]
        },
        {
          "output_type": "stream",
          "name": "stdout",
          "text": [
            "box_threshold=0.35, text_threshold=0.25, [10]\n",
            "final text_encoder_type: bert-base-uncased\n"
          ]
        },
        {
          "output_type": "stream",
          "name": "stderr",
          "text": [
            "Running Inference for very_generic: 100%|██████████| 1500/1500 [05:38<00:00,  4.44it/s]\n",
            "Running Inference for generic: 100%|██████████| 1500/1500 [05:40<00:00,  4.41it/s]\n",
            "Running Inference for supercategories: 100%|██████████| 1500/1500 [06:18<00:00,  3.97it/s]\n",
            "Running Inference for categories: 100%|██████████| 1500/1500 [06:51<00:00,  3.65it/s]\n"
          ]
        },
        {
          "output_type": "stream",
          "name": "stdout",
          "text": [
            "box_threshold=0.35, text_threshold=0.35, [11]\n",
            "final text_encoder_type: bert-base-uncased\n"
          ]
        },
        {
          "output_type": "stream",
          "name": "stderr",
          "text": [
            "Running Inference for very_generic: 100%|██████████| 1500/1500 [05:36<00:00,  4.45it/s]\n",
            "Running Inference for generic: 100%|██████████| 1500/1500 [05:40<00:00,  4.41it/s]\n",
            "Running Inference for supercategories: 100%|██████████| 1500/1500 [06:17<00:00,  3.97it/s]\n",
            "Running Inference for categories: 100%|██████████| 1500/1500 [06:51<00:00,  3.64it/s]\n"
          ]
        },
        {
          "output_type": "stream",
          "name": "stdout",
          "text": [
            "box_threshold=0.35, text_threshold=0.5, [12]\n",
            "final text_encoder_type: bert-base-uncased\n"
          ]
        },
        {
          "output_type": "stream",
          "name": "stderr",
          "text": [
            "Running Inference for very_generic: 100%|██████████| 1500/1500 [05:37<00:00,  4.44it/s]\n",
            "Running Inference for generic: 100%|██████████| 1500/1500 [05:40<00:00,  4.41it/s]\n",
            "Running Inference for supercategories: 100%|██████████| 1500/1500 [06:18<00:00,  3.96it/s]\n",
            "Running Inference for categories: 100%|██████████| 1500/1500 [06:51<00:00,  3.64it/s]\n"
          ]
        },
        {
          "output_type": "stream",
          "name": "stdout",
          "text": [
            "box_threshold=0.35, text_threshold=0.75, [13]\n",
            "final text_encoder_type: bert-base-uncased\n"
          ]
        },
        {
          "output_type": "stream",
          "name": "stderr",
          "text": [
            "Running Inference for very_generic: 100%|██████████| 1500/1500 [05:38<00:00,  4.43it/s]\n",
            "Running Inference for generic: 100%|██████████| 1500/1500 [05:40<00:00,  4.40it/s]\n",
            "Running Inference for supercategories: 100%|██████████| 1500/1500 [06:18<00:00,  3.96it/s]\n",
            "Running Inference for categories: 100%|██████████| 1500/1500 [06:52<00:00,  3.63it/s]\n"
          ]
        },
        {
          "output_type": "stream",
          "name": "stdout",
          "text": [
            "box_threshold=0.5, text_threshold=0.25, [20]\n",
            "final text_encoder_type: bert-base-uncased\n"
          ]
        },
        {
          "output_type": "stream",
          "name": "stderr",
          "text": [
            "Running Inference for very_generic: 100%|██████████| 1500/1500 [05:36<00:00,  4.45it/s]\n",
            "Running Inference for generic: 100%|██████████| 1500/1500 [05:40<00:00,  4.41it/s]\n",
            "Running Inference for supercategories: 100%|██████████| 1500/1500 [06:17<00:00,  3.97it/s]\n",
            "Running Inference for categories: 100%|██████████| 1500/1500 [06:51<00:00,  3.64it/s]\n"
          ]
        },
        {
          "output_type": "stream",
          "name": "stdout",
          "text": [
            "box_threshold=0.5, text_threshold=0.35, [21]\n",
            "final text_encoder_type: bert-base-uncased\n"
          ]
        },
        {
          "output_type": "stream",
          "name": "stderr",
          "text": [
            "Running Inference for very_generic: 100%|██████████| 1500/1500 [05:37<00:00,  4.44it/s]\n",
            "Running Inference for generic: 100%|██████████| 1500/1500 [05:40<00:00,  4.41it/s]\n",
            "Running Inference for supercategories: 100%|██████████| 1500/1500 [06:18<00:00,  3.96it/s]\n",
            "Running Inference for categories: 100%|██████████| 1500/1500 [06:51<00:00,  3.64it/s]\n"
          ]
        },
        {
          "output_type": "stream",
          "name": "stdout",
          "text": [
            "box_threshold=0.5, text_threshold=0.5, [22]\n",
            "final text_encoder_type: bert-base-uncased\n"
          ]
        },
        {
          "output_type": "stream",
          "name": "stderr",
          "text": [
            "Running Inference for very_generic: 100%|██████████| 1500/1500 [05:37<00:00,  4.45it/s]\n",
            "Running Inference for generic: 100%|██████████| 1500/1500 [05:39<00:00,  4.42it/s]\n",
            "Running Inference for supercategories: 100%|██████████| 1500/1500 [06:17<00:00,  3.98it/s]\n",
            "Running Inference for categories: 100%|██████████| 1500/1500 [06:51<00:00,  3.65it/s]\n"
          ]
        },
        {
          "output_type": "stream",
          "name": "stdout",
          "text": [
            "box_threshold=0.5, text_threshold=0.75, [23]\n",
            "final text_encoder_type: bert-base-uncased\n"
          ]
        },
        {
          "output_type": "stream",
          "name": "stderr",
          "text": [
            "Running Inference for very_generic: 100%|██████████| 1500/1500 [05:37<00:00,  4.45it/s]\n",
            "Running Inference for generic: 100%|██████████| 1500/1500 [05:40<00:00,  4.41it/s]\n",
            "Running Inference for supercategories: 100%|██████████| 1500/1500 [06:17<00:00,  3.97it/s]\n",
            "Running Inference for categories: 100%|██████████| 1500/1500 [06:51<00:00,  3.64it/s]\n"
          ]
        },
        {
          "output_type": "stream",
          "name": "stdout",
          "text": [
            "box_threshold=0.75, text_threshold=0.25, [30]\n",
            "final text_encoder_type: bert-base-uncased\n"
          ]
        },
        {
          "output_type": "stream",
          "name": "stderr",
          "text": [
            "Running Inference for very_generic: 100%|██████████| 1500/1500 [05:38<00:00,  4.43it/s]\n",
            "Running Inference for generic:  51%|█████▏    | 772/1500 [03:01<02:37,  4.61it/s]"
          ]
        },
        {
          "output_type": "stream",
          "name": "stdout",
          "text": [
            "Buffered data was truncated after reaching the output size limit."
          ]
        }
      ]
    },
    {
      "cell_type": "markdown",
      "source": [
        "## Evaluate Performance"
      ],
      "metadata": {
        "id": "hLuK9BChSTrl"
      }
    },
    {
      "cell_type": "code",
      "source": [
        "from evaluator import Evaluator\n",
        "\n",
        "ev = Evaluator(dl, os.path.join(RESULTS_PATH, \"10\"))\n",
        "\n",
        "evalutation = ev.evaluate('supercategories')\n"
      ],
      "metadata": {
        "colab": {
          "base_uri": "https://localhost:8080/",
          "height": 67,
          "referenced_widgets": [
            "e489c77c5c9842509a47b408d86ffa31",
            "0e9ad8b459874f28a435f10c3a03a719",
            "da3cc10757124d648659c16ae640b58b",
            "c517b795c6a341c2b4133ff93ed0bdee",
            "eada19921b4f44f2a557238ce33d1d04",
            "fe2cfb18924a45c98b8e9358a2e43320",
            "dd15e9cd310e439caaa6ac5edb76078f",
            "c0da37d173254c3796dbeca3c8b4d436",
            "1ea7d1292b49491a9e124ad99ecd905b",
            "699610054dea4ad180509c4bd53b5156",
            "cf45d4d691b94b199d7740bea0de7f48"
          ]
        },
        "id": "QXFk8sppSXnw",
        "outputId": "4b059ca8-344f-4499-ba51-20ae3f9ae9b1"
      },
      "execution_count": 256,
      "outputs": [
        {
          "output_type": "display_data",
          "data": {
            "text/plain": [
              "Evaluating Predictions: 0it [00:00, ?it/s]"
            ],
            "application/vnd.jupyter.widget-view+json": {
              "version_major": 2,
              "version_minor": 0,
              "model_id": "e489c77c5c9842509a47b408d86ffa31"
            }
          },
          "metadata": {}
        },
        {
          "output_type": "stream",
          "name": "stdout",
          "text": [
            "# Prediction labels matching GT labels: 0\n"
          ]
        }
      ]
    },
    {
      "cell_type": "markdown",
      "source": [
        "## Plot Results"
      ],
      "metadata": {
        "id": "lbfz9BJJLuwA"
      }
    },
    {
      "cell_type": "code",
      "source": [
        "# @title Plot Confusion Matrix\n",
        "import seaborn as sns\n",
        "import matplotlib.pyplot as plt\n",
        "import numpy as np\n",
        "\n",
        "# Replace this with your actual dictionary\n",
        "confusion_dict = evalutation\n",
        "\n",
        "labels = sorted(confusion_dict.keys())\n",
        "matrix = np.zeros((len(labels), len(labels)))\n",
        "\n",
        "if not labels:\n",
        "    raise ValueError(\"Empty confusion dictionary\")\n",
        "\n",
        "for i, true_label in enumerate(labels):\n",
        "    for j, pred_label in enumerate(labels):\n",
        "        matrix[i, j] = confusion_dict[true_label][pred_label]\n",
        "\n",
        "plt.figure(figsize=(8, 6))\n",
        "sns.heatmap(matrix, annot=True, fmt='d', xticklabels=labels, yticklabels=labels, cmap='Blues')\n",
        "plt.xlabel('Predicted')\n",
        "plt.ylabel('Actual')\n",
        "plt.title('Confusion Matrix')\n",
        "plt.tight_layout()\n",
        "plt.show()"
      ],
      "metadata": {
        "colab": {
          "base_uri": "https://localhost:8080/",
          "height": 221
        },
        "id": "lfOzuq1iCbtz",
        "outputId": "2382741e-151d-40a2-a592-9e6d81d05fda"
      },
      "execution_count": 260,
      "outputs": [
        {
          "output_type": "error",
          "ename": "ValueError",
          "evalue": "Empty confusion dictionary",
          "traceback": [
            "\u001b[0;31m---------------------------------------------------------------------------\u001b[0m",
            "\u001b[0;31mValueError\u001b[0m                                Traceback (most recent call last)",
            "\u001b[0;32m<ipython-input-260-d4caf7411381>\u001b[0m in \u001b[0;36m<cell line: 12>\u001b[0;34m()\u001b[0m\n\u001b[1;32m     11\u001b[0m \u001b[0;34m\u001b[0m\u001b[0m\n\u001b[1;32m     12\u001b[0m \u001b[0;32mif\u001b[0m \u001b[0;32mnot\u001b[0m \u001b[0mlabels\u001b[0m\u001b[0;34m:\u001b[0m\u001b[0;34m\u001b[0m\u001b[0;34m\u001b[0m\u001b[0m\n\u001b[0;32m---> 13\u001b[0;31m     \u001b[0;32mraise\u001b[0m \u001b[0mValueError\u001b[0m\u001b[0;34m(\u001b[0m\u001b[0;34m\"Empty confusion dictionary\"\u001b[0m\u001b[0;34m)\u001b[0m\u001b[0;34m\u001b[0m\u001b[0;34m\u001b[0m\u001b[0m\n\u001b[0m\u001b[1;32m     14\u001b[0m \u001b[0;34m\u001b[0m\u001b[0m\n\u001b[1;32m     15\u001b[0m \u001b[0;32mfor\u001b[0m \u001b[0mi\u001b[0m\u001b[0;34m,\u001b[0m \u001b[0mtrue_label\u001b[0m \u001b[0;32min\u001b[0m \u001b[0menumerate\u001b[0m\u001b[0;34m(\u001b[0m\u001b[0mlabels\u001b[0m\u001b[0;34m)\u001b[0m\u001b[0;34m:\u001b[0m\u001b[0;34m\u001b[0m\u001b[0;34m\u001b[0m\u001b[0m\n",
            "\u001b[0;31mValueError\u001b[0m: Empty confusion dictionary"
          ]
        }
      ]
    }
  ]
}